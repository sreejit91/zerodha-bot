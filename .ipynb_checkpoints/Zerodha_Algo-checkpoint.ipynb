{
 "cells": [
  {
   "cell_type": "markdown",
   "id": "8f8680bb-a2b6-4b68-ae92-a66c6ba15ce1",
   "metadata": {},
   "source": [
    "# Refresh Kite access token and instrument token"
   ]
  },
  {
   "cell_type": "markdown",
   "id": "b710a38a-01db-4474-bfe9-a98bbfee1e1e",
   "metadata": {},
   "source": [
    "## 1. Attach a stream-handler once (so logs show up)"
   ]
  },
  {
   "cell_type": "code",
   "execution_count": null,
   "id": "bbc262ca-07c7-4533-aa89-e3af492ef255",
   "metadata": {},
   "outputs": [],
   "source": [
    "import os, pathlib\n",
    "print(\"Notebook CWD →\", pathlib.Path(os.getcwd()).resolve())"
   ]
  },
  {
   "cell_type": "code",
   "execution_count": null,
   "id": "5399af5e-b27f-406a-b30e-0b87a857a47f",
   "metadata": {},
   "outputs": [],
   "source": [
    "from algo import load_config, KiteWrapper, add_indicators\n",
    "\n",
    "creds  = load_config()\n",
    "broker = KiteWrapper(creds)\n",
    "\n",
    "print(\"API key:\", creds.api_key)\n",
    "hist   = add_indicators(broker.history(days=1, interval=\"5minute\"))\n",
    "hist.tail()"
   ]
  },
  {
   "cell_type": "code",
   "execution_count": null,
   "id": "25a5904e-123f-4afb-b25c-b1ce232fcbf9",
   "metadata": {},
   "outputs": [],
   "source": [
    "from kiteconnect import KiteConnect\n",
    "\n",
    "API_KEY     = \"jbxw35dzeziiv6xg\"        # your copy-pasted key\n",
    "API_SECRET  = \"ewirxpjeya32oe461idyuxyxitj4ttym\"\n",
    "\n",
    "kite = KiteConnect(api_key=API_KEY)\n",
    "\n",
    "# 1️⃣ Get the login URL\n",
    "login_url = kite.login_url()\n",
    "print(\"Open this in your browser and finish the Zerodha login:\", login_url)"
   ]
  },
  {
   "cell_type": "code",
   "execution_count": null,
   "id": "23120227-612d-45df-92ca-617d080effb4",
   "metadata": {},
   "outputs": [],
   "source": [
    "request_token = \"OYwidg7oVGvCJGdeWNzMlaKPF7Ze0upr\"   # paste yours here\n",
    "\n",
    "# 2️⃣ Exchange it for an access token\n",
    "data = kite.generate_session(request_token, api_secret=API_SECRET)\n",
    "access_token = data[\"access_token\"]\n",
    "print(\"ACCESS TOKEN:\", access_token)          # keep it secret!"
   ]
  },
  {
   "cell_type": "markdown",
   "id": "b7c5f3d4-51e9-47ff-8dd9-dc204a2d064a",
   "metadata": {},
   "source": [
    "# Train (or load) the LSTM once"
   ]
  },
  {
   "cell_type": "code",
   "execution_count": null,
   "id": "8d6b9bc7-7d70-48f3-a7cd-03bb99f410a2",
   "metadata": {},
   "outputs": [],
   "source": [
    "# 1) Load your creds & broker\n",
    "from algo import load_config\n",
    "from algo import KiteWrapper\n",
    "from algo import add_indicators\n",
    "\n",
    "creds  = load_config()\n",
    "broker = KiteWrapper(creds)\n",
    "\n",
    "# 2) Pull 90 days of 5-minute candles and add your indicators\n",
    "hist = add_indicators(\n",
    "    broker.history(days=90, interval=\"5minute\")\n",
    ")\n",
    "\n",
    "# 3) Now train (or retrain) the model on that history\n",
    "from algo import load_or_train\n",
    "\n",
    "model = load_or_train(hist, retrain=True)\n",
    "print(\"Model ready:\", model)"
   ]
  },
  {
   "cell_type": "markdown",
   "id": "d9f8ca48-c0ab-4cc3-9100-e056d85caabf",
   "metadata": {},
   "source": [
    "# Generate a test signal on the fresh data"
   ]
  },
  {
   "cell_type": "code",
   "execution_count": null,
   "id": "1ab50e44-6e2a-4a80-a294-66bb642d4a63",
   "metadata": {},
   "outputs": [],
   "source": [
    "from algo import generate_signal\n",
    "print(\"Latest signal:\", generate_signal(hist, model))"
   ]
  },
  {
   "cell_type": "markdown",
   "id": "6a1ae348-3c8b-43ee-b23f-5dc39ce1f4b9",
   "metadata": {},
   "source": [
    "##  2. Start the live loop in a background thread"
   ]
  },
  {
   "cell_type": "code",
   "execution_count": null,
   "id": "5b19d3e6-a707-436d-8fb7-25c60dbba95b",
   "metadata": {},
   "outputs": [],
   "source": [
    "import threading\n",
    "from algo import run_live\n",
    "\n",
    "t = threading.Thread(target=run_live,\n",
    "                     kwargs=dict(symbol=\"BANKNIFTY25JUNFUT\",\n",
    "                                 qty=1, live=False),   # paper mode\n",
    "                     daemon=True)\n",
    "t.start()"
   ]
  },
  {
   "cell_type": "code",
   "execution_count": null,
   "id": "84cb3ca2-f237-46e2-a209-09b9d09ae880",
   "metadata": {},
   "outputs": [],
   "source": [
    "# Run with threshold = 0.45 instead of 0.50\n",
    "import threading\n",
    "from algo import run_live\n",
    "t = threading.Thread(\n",
    "    target=run_live,\n",
    "    kwargs=dict(\n",
    "      symbol=\"BANKNIFTY25JUNFUT\",\n",
    "      qty=1,\n",
    "      threshold=0.45,    # allow BUY when prob_up ≥ 0.45\n",
    "      sl_mult=1.5,\n",
    "      target_mult=3.0,\n",
    "      live=False\n",
    "    ),\n",
    "    daemon=True\n",
    ")\n",
    "t.start()"
   ]
  },
  {
   "cell_type": "markdown",
   "id": "9750552f-a3d8-405c-8e30-8f65d51baecd",
   "metadata": {},
   "source": [
    "## 3. (Optional) Inspect tick flow / trades"
   ]
  },
  {
   "cell_type": "code",
   "execution_count": null,
   "id": "4484263c-f5d6-432d-baac-0538599f2b17",
   "metadata": {},
   "outputs": [],
   "source": [
    "import algo.runner as ar\n",
    "# give the thread a moment to execute the globals() line\n",
    "import time\n",
    "\n",
    "time.sleep(2)\n",
    "\n",
    "# NOW inspect the queue through the module\n",
    "size1 = ar.runlive_ticks_q.qsize()\n",
    "time.sleep(2)\n",
    "size2 = ar.runlive_ticks_q.qsize()\n",
    "print(\"Queue grew from\", size1, \"to\", size2)"
   ]
  },
  {
   "cell_type": "code",
   "execution_count": null,
   "id": "83cfc0ac-98d3-458f-bf88-221ab4990eb8",
   "metadata": {},
   "outputs": [],
   "source": [
    "%pip install matplotlib numpy"
   ]
  },
  {
   "cell_type": "code",
   "execution_count": null,
   "id": "38de04d2-3307-43c5-a081-f8154fd190ba",
   "metadata": {},
   "outputs": [],
   "source": [
    "# ⬇️  add these imports at the top of the cell\n",
    "from algo import load_config   # ← gives you load_config()\n",
    "from algo import KiteWrapper\n",
    "from algo import backtest\n",
    "cfg = load_config()\n",
    "k   = KiteWrapper(cfg)          # now works\n",
    "hist  = k.history(days=60, interval=\"5minute\")   # 60 days ≈ 7 500 bars\n",
    "df_bt, metrics = backtest(hist, qty=1)\n",
    "print(metrics)"
   ]
  },
  {
   "cell_type": "code",
   "execution_count": null,
   "id": "c50be9f0-4f21-44ed-a3a7-505c7bf762c8",
   "metadata": {},
   "outputs": [],
   "source": [
    "from algo import load_config\n",
    "from algo import KiteWrapper\n",
    "from algo import add_indicators\n",
    "\n",
    "import pathlib, algo.model as m\n",
    "pathlib.Path(m.MODEL_PATH).unlink(missing_ok=True)   # delete cached weights\n",
    "\n",
    "cfg = load_config()\n",
    "k   = KiteWrapper(cfg)\n",
    "hist = k.history(days=60, interval=\"5minute\")\n",
    "\n",
    "model = m.load_or_train(add_indicators(hist), retrain=True, epochs=30)  # you’ll see 30 epochs"
   ]
  },
  {
   "cell_type": "code",
   "execution_count": null,
   "id": "25914704-79c1-4bb2-91f6-ec2473ba19a3",
   "metadata": {},
   "outputs": [],
   "source": [
    "import pathlib\n",
    "\n",
    "pathlib.Path(\"models/logreg.joblib\").unlink(missing_ok=True)"
   ]
  },
  {
   "cell_type": "code",
   "execution_count": null,
   "id": "55ef2a45-1a46-4642-8430-925eb78de39b",
   "metadata": {},
   "outputs": [],
   "source": [
    "from algo import KiteWrapper\n",
    "from algo import load_config\n",
    "from algo import backtest\n",
    "\n",
    "cfg  = load_config()\n",
    "k    = KiteWrapper(cfg)\n",
    "hist = k.history(days=60, interval=\"5minute\")\n",
    "\n",
    "bt_df, m = backtest(hist, upper=0.75, lower=0.25, tgt_pct=0.008,sl_pct=0.0015)   # logistic model auto-trains & runs\n",
    "print(m)                       # expect non-zero round_trips / win-rate"
   ]
  },
  {
   "cell_type": "code",
   "execution_count": null,
   "id": "9bb01960-6755-4c66-8042-37e9ea78b6df",
   "metadata": {},
   "outputs": [],
   "source": [
    "from algo import KiteWrapper\n",
    "from algo import load_config\n",
    "\n",
    "# 1. Reload your config and broker\n",
    "cfg = load_config()\n",
    "k   = KiteWrapper(cfg)\n",
    "\n",
    "# 2. Fetch the last 60 days of 5-minute bars\n",
    "hist = k.history(days=60, interval=\"5minute\")"
   ]
  },
  {
   "cell_type": "code",
   "execution_count": null,
   "id": "9ef0503d-5bdf-472a-97cc-fb507b95aaa5",
   "metadata": {},
   "outputs": [],
   "source": [
    "import pathlib\n",
    "from algo import load_or_train\n",
    "\n",
    "# 3. Delete any old cache & retrain\n",
    "pathlib.Path(\"models/logreg.joblib\").unlink(missing_ok=True)\n",
    "model = load_or_train(hist, retrain=True)"
   ]
  },
  {
   "cell_type": "markdown",
   "id": "64040508-539a-421d-9435-e7056519a154",
   "metadata": {},
   "source": [
    "## Instrument token number of companies, specify instrument name and exchange: NSE or BSE in config.json"
   ]
  },
  {
   "cell_type": "code",
   "execution_count": null,
   "id": "b0a00061-bcf4-4582-975d-46e0746b35c2",
   "metadata": {},
   "outputs": [],
   "source": [
    "from algo import load_config\n",
    "from algo import KiteWrapper\n",
    "\n",
    "cfg = load_config()\n",
    "k   = KiteWrapper(cfg)\n",
    "print(\"Resolved token:\", cfg.instrument_token)  # should now be 2885 for RELIANCE"
   ]
  },
  {
   "cell_type": "markdown",
   "id": "5c51eb11-cd6d-417e-9eba-36ed5f05379b",
   "metadata": {},
   "source": [
    "## Backtest model"
   ]
  },
  {
   "cell_type": "code",
   "execution_count": 1,
   "id": "4b95fe1b-40cd-4854-85d4-df953b79b222",
   "metadata": {},
   "outputs": [
    {
     "name": "stdout",
     "output_type": "stream",
     "text": [
      "Fetched 18687 bars from 2024-06-24 09:15:00+05:30 to 2025-06-20 15:25:00+05:30\n",
      "Test slice: 2025-04-23 09:15:00+05:30 → 2025-06-20 15:25:00+05:30\n",
      "Back-test metrics: {'round_trips': 6, 'total_pnl': 5125.199999999995, 'win_rate': 66.66666666666666}\n"
     ]
    }
   ],
   "source": [
    "# ── 1 year TRAIN → 60-day TEST workflow for Reliance ─────────────────\n",
    "\n",
    "# 1️⃣ Imports\n",
    "from algo import KiteWrapper\n",
    "from algo import load_config\n",
    "from algo import add_indicators\n",
    "from algo import load_or_train\n",
    "from algo import backtest\n",
    "\n",
    "# 2️⃣ Init & fetch 365 days of 5-min bars\n",
    "cfg    = load_config()\n",
    "k      = KiteWrapper(cfg)\n",
    "hist365 = k.history(days=365, interval=\"5minute\")\n",
    "print(f\"Fetched {len(hist365)} bars from {hist365.date.min()} to {hist365.date.max()}\")\n",
    "\n",
    "# 3️⃣ Feature-engineer & retrain on the full year\n",
    "df_feat = add_indicators(hist365)\n",
    "model   = load_or_train(df_feat, retrain=True)\n",
    "\n",
    "# 4️⃣ Fetch & prepare the last 60 days for out-of-sample test\n",
    "hist60 = k.history(days=60, interval=\"5minute\")\n",
    "print(f\"Test slice: {hist60.date.min()} → {hist60.date.max()}\")\n",
    "\n",
    "# 5️⃣ Back-test on those 60 days, sizing trades by your capital\n",
    "bt_df, metrics = backtest(\n",
    "    hist60,\n",
    "    model=model,\n",
    "    capital=100_000,      # ₹100 k notional per trade\n",
    "    contract_size=1,      # shares (EQ), so 1\n",
    "    sl_pct=0.015,         # for stocks, you might widen SL to 1.5%\n",
    "    tgt_pct=0.02,         # and target to 2%\n",
    "    upper=0.60,\n",
    "    lower=0.40,\n",
    ")\n",
    "\n",
    "# 6️⃣ Review results\n",
    "print(\"Back-test metrics:\", metrics)"
   ]
  },
  {
   "cell_type": "markdown",
   "id": "f806b577-8ec3-4920-b89e-1af9ba48457f",
   "metadata": {},
   "source": [
    "## Data log of entries, exits and P&L"
   ]
  },
  {
   "cell_type": "code",
   "execution_count": null,
   "id": "e300d673-eae7-4a40-bc5b-e5045b5b6994",
   "metadata": {},
   "outputs": [],
   "source": [
    "import pandas as pd\n",
    "\n",
    "# bt_df is the DataFrame returned by backtest()\n",
    "contract_size = 1  # for equity\n",
    "\n",
    "# Make sure bt_df is indexed by the `date` column:\n",
    "df = bt_df.set_index(\"date\")\n",
    "\n",
    "# Extract entry & exit rows\n",
    "entries = df[df.signal.isin([\"BUY\",\"SELL\"])].copy()\n",
    "exits   = df[df.signal == \"EXIT\"].copy()\n",
    "\n",
    "trades = []\n",
    "# Iterate over matching entry/exit pairs\n",
    "for (entry_time, ent_row), (exit_time, ex_row) in zip(entries.iterrows(), exits.iterrows()):\n",
    "    side        = ent_row.signal\n",
    "    entry_price = ent_row.close\n",
    "    exit_price  = ex_row.close\n",
    "    qty         = int(ent_row.qty)\n",
    "    notional    = entry_price * qty * contract_size\n",
    "    pnl         = float(ex_row.pnl)\n",
    "    duration    = exit_time - entry_time\n",
    "\n",
    "    trades.append({\n",
    "        \"side\":        side,\n",
    "        \"entry_time\":  entry_time,   # now a Timestamp\n",
    "        \"exit_time\":   exit_time,    # now a Timestamp\n",
    "        \"entry_price\": entry_price,\n",
    "        \"exit_price\":  exit_price,\n",
    "        \"qty\":         qty,\n",
    "        \"notional\":    notional,\n",
    "        \"pnl\":         pnl,\n",
    "        \"duration\":    duration,\n",
    "    })\n",
    "\n",
    "report = pd.DataFrame(trades)\n",
    "print(report.to_string(index=False))\n",
    "print(f\"\\nTOTAL PnL: ₹{report.pnl.sum():.2f}\")"
   ]
  },
  {
   "cell_type": "code",
   "execution_count": null,
   "id": "6fa6c2ce-e1b8-4e66-a1bc-6ed192c9daa4",
   "metadata": {},
   "outputs": [],
   "source": []
  }
 ],
 "metadata": {
  "kernelspec": {
   "display_name": "kitebot",
   "language": "python",
   "name": "kitebot"
  },
  "language_info": {
   "codemirror_mode": {
    "name": "ipython",
    "version": 3
   },
   "file_extension": ".py",
   "mimetype": "text/x-python",
   "name": "python",
   "nbconvert_exporter": "python",
   "pygments_lexer": "ipython3",
   "version": "3.11.13"
  }
 },
 "nbformat": 4,
 "nbformat_minor": 5
}
