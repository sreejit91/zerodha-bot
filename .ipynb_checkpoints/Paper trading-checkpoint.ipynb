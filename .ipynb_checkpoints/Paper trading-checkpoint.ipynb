{
 "cells": [
  {
   "cell_type": "code",
   "execution_count": null,
   "id": "f1a8d597-0777-47e2-82ea-44a655ab18cf",
   "metadata": {},
   "outputs": [],
   "source": [
    "from algo import load_or_train, predict_last\n",
    "print(load_or_train, predict_last)"
   ]
  },
  {
   "cell_type": "code",
   "execution_count": null,
   "id": "4b7cf54c-4ee8-4600-95e5-683600b5e3e2",
   "metadata": {},
   "outputs": [],
   "source": [
    "# 1️⃣ Import and bootstrap\n",
    "from algo import load_config\n",
    "from algo import KiteWrapper\n",
    "from algo import run_live\n",
    "\n",
    "# 2️⃣ Load your credentials & broker\n",
    "cfg = load_config()\n",
    "k   = KiteWrapper(cfg)\n",
    "\n",
    "# 3️⃣ Start the paper-trade loop for Reliance shares\n",
    "run_live(\n",
    "    symbol=\"RELIANCE\",   # your tradingsymbol\n",
    "    qty=1,               # number of shares per trade (capital sizing is in backtester)\n",
    "    live=False           # paper mode (won’t place real orders)\n",
    ")"
   ]
  },
  {
   "cell_type": "code",
   "execution_count": null,
   "id": "681d8741-e9a4-4eae-9264-9a3188d05010",
   "metadata": {},
   "outputs": [],
   "source": []
  }
 ],
 "metadata": {
  "kernelspec": {
   "display_name": "Python [conda env:kitebot]",
   "language": "python",
   "name": "conda-env-kitebot-py"
  },
  "language_info": {
   "codemirror_mode": {
    "name": "ipython",
    "version": 3
   },
   "file_extension": ".py",
   "mimetype": "text/x-python",
   "name": "python",
   "nbconvert_exporter": "python",
   "pygments_lexer": "ipython3",
   "version": "3.11.13"
  }
 },
 "nbformat": 4,
 "nbformat_minor": 5
}
