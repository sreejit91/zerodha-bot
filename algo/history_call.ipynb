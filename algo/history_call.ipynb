{
 "cells": [
  {
   "metadata": {},
   "cell_type": "code",
   "outputs": [],
   "execution_count": null,
   "source": [
    "# 1. Import the fetch_and_store function\n",
    "from algo.exec_prog.data_manager import fetch_and_store\n",
    "\n",
    "# 2. Run it for a quick test (e.g. 1 symbol, 1 day, 5-minute bars)\n",
    "symbols   = [\"RELIANCE\"]\n",
    "days      = 500\n",
    "intervals = [\"3minute\"]\n",
    "data_dir  = \"data\"\n",
    "\n",
    "fetch_and_store(symbols, days, intervals, data_dir)\n",
    "\n",
    "# 3. Load the resulting CSV into a DataFrame\n",
    "import pandas as pd\n",
    "path = f\"{data_dir}/{symbols[0]}_{intervals[0]}.csv\"\n",
    "df   = pd.read_csv(path, index_col=0, parse_dates=True)\n",
    "\n",
    "# 4. Inspect the DataFrame\n",
    "print(f\"Rows: {len(df)}\")\n",
    "display(df.head(5))\n",
    "display(df.tail(5))\n",
    "\n",
    "# 5. (Optional) Basic assertions\n",
    "assert not df.empty, \"ERROR: DataFrame is empty!\"\n",
    "assert all(col in df.columns for col in [\"open\",\"high\",\"low\",\"close\",\"volume\"]), \\\n",
    "       \"ERROR: Missing expected OHLCV columns\"\n",
    "\n",
    "print(\"✅ Jupyter smoke-test passed!\")\n"
   ],
   "id": "af571d39bd6c5c1a"
  },
  {
   "metadata": {},
   "cell_type": "code",
   "outputs": [],
   "execution_count": null,
   "source": "df",
   "id": "df7f2e13682ee68e"
  },
  {
   "metadata": {},
   "cell_type": "code",
   "outputs": [],
   "execution_count": null,
   "source": "",
   "id": "f30b30cac1bf0ebd"
  }
 ],
 "metadata": {},
 "nbformat": 4,
 "nbformat_minor": 5
}
