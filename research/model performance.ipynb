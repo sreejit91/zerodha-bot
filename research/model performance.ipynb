{
 "cells": [
  {
   "metadata": {
    "ExecuteTime": {
     "end_time": "2025-07-08T03:38:55.827678Z",
     "start_time": "2025-07-08T03:38:50.527829Z"
    }
   },
   "cell_type": "code",
   "source": "pip install --force-reinstall lightgbm",
   "id": "4f73a8e90a37b7e1",
   "outputs": [
    {
     "name": "stdout",
     "output_type": "stream",
     "text": [
      "Collecting lightgbm\r\n",
      "  Using cached lightgbm-4.6.0-py3-none-macosx_12_0_arm64.whl.metadata (17 kB)\r\n",
      "Collecting numpy>=1.17.0 (from lightgbm)\r\n",
      "  Using cached numpy-2.3.1-cp313-cp313-macosx_11_0_arm64.whl.metadata (171 kB)\r\n",
      "Collecting scipy (from lightgbm)\r\n",
      "  Using cached scipy-1.16.0-cp313-cp313-macosx_12_0_arm64.whl.metadata (61 kB)\r\n",
      "Using cached lightgbm-4.6.0-py3-none-macosx_12_0_arm64.whl (1.6 MB)\r\n",
      "Using cached numpy-2.3.1-cp313-cp313-macosx_11_0_arm64.whl (14.2 MB)\r\n",
      "Using cached scipy-1.16.0-cp313-cp313-macosx_12_0_arm64.whl (28.5 MB)\r\n",
      "Installing collected packages: numpy, scipy, lightgbm\r\n",
      "\u001B[2K  Attempting uninstall: numpy\r\n",
      "\u001B[2K    Found existing installation: numpy 2.3.1\r\n",
      "\u001B[2K    Uninstalling numpy-2.3.1:\r\n",
      "\u001B[2K      Successfully uninstalled numpy-2.3.1\r\n",
      "\u001B[2K  Attempting uninstall: scipy━━━━━━━━━━━━━━━━━━━\u001B[0m \u001B[32m0/3\u001B[0m [numpy]\r\n",
      "\u001B[2K    Found existing installation: scipy 1.16.0[0m \u001B[32m0/3\u001B[0m [numpy]\r\n",
      "\u001B[2K    Uninstalling scipy-1.16.0:╺\u001B[0m\u001B[90m━━━━━━━━━━━━━━━━━━━━━━━━━━\u001B[0m \u001B[32m1/3\u001B[0m [scipy]\r\n",
      "\u001B[2K      Successfully uninstalled scipy-1.16.0━━━━━━━━━━━━━━━━━━━\u001B[0m \u001B[32m1/3\u001B[0m [scipy]\r\n",
      "\u001B[2K  Attempting uninstall: lightgbm[0m\u001B[90m━━━━━━━━━━━━━━━━━━━━━━━━━━\u001B[0m \u001B[32m1/3\u001B[0m [scipy]\r\n",
      "\u001B[2K    Found existing installation: lightgbm 4.6.0━━━━━━━━━━━━━━━\u001B[0m \u001B[32m1/3\u001B[0m [scipy]\r\n",
      "\u001B[2K    Uninstalling lightgbm-4.6.0:[90m━━━━━━━━━━━━━━━━━━━━━━━━━━\u001B[0m \u001B[32m1/3\u001B[0m [scipy]\r\n",
      "\u001B[2K      Successfully uninstalled lightgbm-4.6.0━━━━━━━━━━━━━━━━━\u001B[0m \u001B[32m1/3\u001B[0m [scipy]\r\n",
      "\u001B[2K   \u001B[90m━━━━━━━━━━━━━━━━━━━━━━━━━━━━━━━━━━━━━━━━\u001B[0m \u001B[32m3/3\u001B[0m [lightgbm]2/3\u001B[0m [lightgbm]\r\n",
      "\u001B[1A\u001B[2K\u001B[31mERROR: pip's dependency resolver does not currently take into account all the packages that are installed. This behaviour is the source of the following dependency conflicts.\r\n",
      "pandas-stubs 2.3.0.250703 requires types-pytz>=2022.1.1, which is not installed.\u001B[0m\u001B[31m\r\n",
      "\u001B[0mSuccessfully installed lightgbm-4.6.0 numpy-2.3.1 scipy-1.16.0\r\n",
      "Note: you may need to restart the kernel to use updated packages.\n"
     ]
    }
   ],
   "execution_count": 3
  },
  {
   "metadata": {
    "collapsed": true,
    "ExecuteTime": {
     "end_time": "2025-07-08T03:43:16.804446Z",
     "start_time": "2025-07-08T03:42:04.048154Z"
    }
   },
   "cell_type": "code",
   "source": [
    "# ── AUC-check cell (updated for N_AHEAD) ────────────────────────────\n",
    "import numpy as np, pandas as pd\n",
    "from sklearn.model_selection import TimeSeriesSplit, cross_val_score\n",
    "\n",
    "from algo.config   import load_config\n",
    "from algo.broker   import KiteWrapper\n",
    "from research.features import add_indicators, FEATURES\n",
    "from research.model    import load_or_train, LOOKBACK, N_AHEAD        # ← import constants\n",
    "\n",
    "# 1) Fetch 6-month history & build indicators\n",
    "cfg    = load_config()\n",
    "broker = KiteWrapper(cfg)\n",
    "hist   = broker.history(days=180, interval=\"3minute\", tradingsymbol=\"IDEA\")\n",
    "df_all = add_indicators(hist).ffill()\n",
    "\n",
    "# 2) Binary target: price N_AHEAD bars ahead higher than now?\n",
    "df_all[\"y\"] = (df_all[\"close\"].shift(-N_AHEAD) > df_all[\"close\"]).astype(int)\n",
    "\n",
    "# 3) Build sliding windows (feature matrix X) that match live pipeline\n",
    "windows, labels = [], []\n",
    "for i in range(LOOKBACK, len(df_all) - N_AHEAD):\n",
    "    win = df_all.iloc[i - LOOKBACK : i][FEATURES].to_numpy().ravel()\n",
    "    windows.append(win)\n",
    "    labels.append(df_all[\"y\"].iat[i])\n",
    "\n",
    "X = np.asarray(windows, dtype=\"float32\")\n",
    "y = np.asarray(labels, dtype=\"int8\")\n",
    "\n",
    "# 4) Train / reload LightGBM pipeline (set retrain=True once after feature edits)\n",
    "model = load_or_train(df_all.iloc[: -(LOOKBACK + N_AHEAD)], retrain=True)\n",
    "\n",
    "# 5) Forward-walk CV AUC\n",
    "tscv = TimeSeriesSplit(n_splits=10)\n",
    "auc_scores = cross_val_score(model, X, y, cv=tscv, scoring=\"roc_auc\", n_jobs=-1)\n",
    "\n",
    "print(\"Fold AUCs :\", np.round(auc_scores, 3))\n",
    "print(\"Median AUC:\", round(np.median(auc_scores), 3))\n"
   ],
   "id": "initial_id",
   "outputs": [
    {
     "name": "stdout",
     "output_type": "stream",
     "text": [
      "[KiteWrapper] initialized: symbol=RELIANCE on exch=NSE\n",
      "[history] start: days=180, interval=3minute, symbol=IDEA\n",
      "[history] range UTC-naive: 2025-01-09 03:42:04.067771 → 2025-07-08 03:42:04.067771\n",
      "[history] token=3677697\n",
      "[history] got 8375 bars, cursor→2025-04-17 15:30:00\n",
      "[history] got 6875 bars, cursor→2025-07-07 15:30:00\n",
      "[history] empty data for 2025-07-07 15:30:00->2025-07-08 03:42:04.067771, breaking loop\n",
      "[history] complete 15250 bars 2025-01-09 09:15:00 → 2025-07-07 15:27:00\n",
      "🔧  Training started at 09:12:08\n",
      "✅  Training finished in 9.4s\n",
      "Validation accuracy: 0.557\n"
     ]
    },
    {
     "name": "stderr",
     "output_type": "stream",
     "text": [
      "/Users/sreejit/PycharmProjects/zerodha-bot/.venv/lib/python3.13/site-packages/sklearn/utils/validation.py:2749: UserWarning: X does not have valid feature names, but LGBMClassifier was fitted with feature names\n",
      "  warnings.warn(\n",
      "/Library/Frameworks/Python.framework/Versions/3.13/lib/python3.13/multiprocessing/queues.py:120: UserWarning: pkg_resources is deprecated as an API. See https://setuptools.pypa.io/en/latest/pkg_resources.html. The pkg_resources package is slated for removal as early as 2025-11-30. Refrain from using this package or pin to Setuptools<81.\n",
      "  return _ForkingPickler.loads(res)\n",
      "/Library/Frameworks/Python.framework/Versions/3.13/lib/python3.13/multiprocessing/queues.py:120: UserWarning: pkg_resources is deprecated as an API. See https://setuptools.pypa.io/en/latest/pkg_resources.html. The pkg_resources package is slated for removal as early as 2025-11-30. Refrain from using this package or pin to Setuptools<81.\n",
      "  return _ForkingPickler.loads(res)\n",
      "/Library/Frameworks/Python.framework/Versions/3.13/lib/python3.13/multiprocessing/queues.py:120: UserWarning: pkg_resources is deprecated as an API. See https://setuptools.pypa.io/en/latest/pkg_resources.html. The pkg_resources package is slated for removal as early as 2025-11-30. Refrain from using this package or pin to Setuptools<81.\n",
      "  return _ForkingPickler.loads(res)\n",
      "/Library/Frameworks/Python.framework/Versions/3.13/lib/python3.13/multiprocessing/queues.py:120: UserWarning: pkg_resources is deprecated as an API. See https://setuptools.pypa.io/en/latest/pkg_resources.html. The pkg_resources package is slated for removal as early as 2025-11-30. Refrain from using this package or pin to Setuptools<81.\n",
      "  return _ForkingPickler.loads(res)\n",
      "/Library/Frameworks/Python.framework/Versions/3.13/lib/python3.13/multiprocessing/queues.py:120: UserWarning: pkg_resources is deprecated as an API. See https://setuptools.pypa.io/en/latest/pkg_resources.html. The pkg_resources package is slated for removal as early as 2025-11-30. Refrain from using this package or pin to Setuptools<81.\n",
      "  return _ForkingPickler.loads(res)\n",
      "/Library/Frameworks/Python.framework/Versions/3.13/lib/python3.13/multiprocessing/queues.py:120: UserWarning: pkg_resources is deprecated as an API. See https://setuptools.pypa.io/en/latest/pkg_resources.html. The pkg_resources package is slated for removal as early as 2025-11-30. Refrain from using this package or pin to Setuptools<81.\n",
      "  return _ForkingPickler.loads(res)\n",
      "/Library/Frameworks/Python.framework/Versions/3.13/lib/python3.13/multiprocessing/queues.py:120: UserWarning: pkg_resources is deprecated as an API. See https://setuptools.pypa.io/en/latest/pkg_resources.html. The pkg_resources package is slated for removal as early as 2025-11-30. Refrain from using this package or pin to Setuptools<81.\n",
      "  return _ForkingPickler.loads(res)\n",
      "/Library/Frameworks/Python.framework/Versions/3.13/lib/python3.13/multiprocessing/queues.py:120: UserWarning: pkg_resources is deprecated as an API. See https://setuptools.pypa.io/en/latest/pkg_resources.html. The pkg_resources package is slated for removal as early as 2025-11-30. Refrain from using this package or pin to Setuptools<81.\n",
      "  return _ForkingPickler.loads(res)\n",
      "/Users/sreejit/PycharmProjects/zerodha-bot/.venv/lib/python3.13/site-packages/sklearn/utils/validation.py:2749: UserWarning: X does not have valid feature names, but LGBMClassifier was fitted with feature names\n",
      "  warnings.warn(\n",
      "/Users/sreejit/PycharmProjects/zerodha-bot/.venv/lib/python3.13/site-packages/sklearn/utils/validation.py:2749: UserWarning: X does not have valid feature names, but LGBMClassifier was fitted with feature names\n",
      "  warnings.warn(\n",
      "/Users/sreejit/PycharmProjects/zerodha-bot/.venv/lib/python3.13/site-packages/sklearn/utils/validation.py:2749: UserWarning: X does not have valid feature names, but LGBMClassifier was fitted with feature names\n",
      "  warnings.warn(\n",
      "/Users/sreejit/PycharmProjects/zerodha-bot/.venv/lib/python3.13/site-packages/sklearn/utils/validation.py:2749: UserWarning: X does not have valid feature names, but LGBMClassifier was fitted with feature names\n",
      "  warnings.warn(\n",
      "/Users/sreejit/PycharmProjects/zerodha-bot/.venv/lib/python3.13/site-packages/sklearn/utils/validation.py:2749: UserWarning: X does not have valid feature names, but LGBMClassifier was fitted with feature names\n",
      "  warnings.warn(\n",
      "/Users/sreejit/PycharmProjects/zerodha-bot/.venv/lib/python3.13/site-packages/sklearn/utils/validation.py:2749: UserWarning: X does not have valid feature names, but LGBMClassifier was fitted with feature names\n",
      "  warnings.warn(\n",
      "/Users/sreejit/PycharmProjects/zerodha-bot/.venv/lib/python3.13/site-packages/sklearn/utils/validation.py:2749: UserWarning: X does not have valid feature names, but LGBMClassifier was fitted with feature names\n",
      "  warnings.warn(\n",
      "/Users/sreejit/PycharmProjects/zerodha-bot/.venv/lib/python3.13/site-packages/sklearn/utils/validation.py:2749: UserWarning: X does not have valid feature names, but LGBMClassifier was fitted with feature names\n",
      "  warnings.warn(\n"
     ]
    },
    {
     "name": "stdout",
     "output_type": "stream",
     "text": [
      "Fold AUCs : [0.499 0.495 0.555 0.504 0.501 0.449 0.543 0.494 0.521 0.53 ]\n",
      "Median AUC: 0.503\n"
     ]
    },
    {
     "name": "stderr",
     "output_type": "stream",
     "text": [
      "/Users/sreejit/PycharmProjects/zerodha-bot/.venv/lib/python3.13/site-packages/sklearn/utils/validation.py:2749: UserWarning: X does not have valid feature names, but LGBMClassifier was fitted with feature names\n",
      "  warnings.warn(\n",
      "/Users/sreejit/PycharmProjects/zerodha-bot/.venv/lib/python3.13/site-packages/sklearn/utils/validation.py:2749: UserWarning: X does not have valid feature names, but LGBMClassifier was fitted with feature names\n",
      "  warnings.warn(\n"
     ]
    }
   ],
   "execution_count": 2
  },
  {
   "metadata": {
    "ExecuteTime": {
     "end_time": "2025-07-08T05:53:48.515622Z",
     "start_time": "2025-07-08T05:53:22.386520Z"
    }
   },
   "cell_type": "code",
   "source": [
    "# research/test_auc_with_imbalance.py\n",
    "\n",
    "import numpy as np\n",
    "import pandas as pd\n",
    "from sklearn.model_selection import TimeSeriesSplit, cross_val_score\n",
    "\n",
    "# 1) Load the merged DataFrame you just created\n",
    "df = pd.read_csv(\n",
    "    \"merged_RELIANCE_imb_3m_2025-07-08.csv\",\n",
    "    parse_dates=[\"timestamp\"],\n",
    "    index_col=\"timestamp\",\n",
    ")\n",
    "\n",
    "# 2) Import your research-model pipeline & constants\n",
    "from research.model    import load_or_train, LOOKBACK, N_AHEAD\n",
    "from research.features import FEATURES\n",
    "from research.config   import load_config\n",
    "from algo.broker       import KiteWrapper\n",
    "\n",
    "# 3) (Re)train on the full merged history\n",
    "#    — so your pipeline now *sees* imb_mean / imb_std\n",
    "cfg     = load_config()\n",
    "broker  = KiteWrapper(cfg)\n",
    "hist_full = broker.history(days=180, interval=\"3minute\", tradingsymbol=cfg.tradingsymbol)\n",
    "df_full   = pd.read_csv(\n",
    "    \"merged_RELIANCE_imb_3m_2025-07-08.csv\",\n",
    "    parse_dates=[\"timestamp\"],\n",
    "    index_col=\"timestamp\"\n",
    ").pipe(lambda d: d.ffill())  # fill any NaNs\n",
    "\n",
    "model = load_or_train(df_full, retrain=True)  # retrain=True because we changed FEATURES\n",
    "\n",
    "# 4) Prepare X, y for the most recent day (or full period)\n",
    "X = df_full[FEATURES]\n",
    "y = (df_full[\"close\"].shift(-N_AHEAD) > df_full[\"close\"]).astype(int)\n",
    "\n",
    "# drop the last N_AHEAD rows (they have no target)\n",
    "X, y = X.iloc[:-N_AHEAD], y.iloc[:-N_AHEAD]\n",
    "\n",
    "# 5) TimeSeriesSplit → cross-val AUC\n",
    "tscv = TimeSeriesSplit(n_splits=10)\n",
    "auc_scores = cross_val_score(\n",
    "    model, X, y,\n",
    "    cv=tscv,\n",
    "    scoring=\"roc_auc\",\n",
    "    n_jobs=-1,\n",
    ")\n",
    "\n",
    "# 6) Report\n",
    "print(\"Fold AUCs :\", np.round(auc_scores, 3))\n",
    "print(\"Median AUC:\", np.round(np.median(auc_scores), 3))\n"
   ],
   "id": "bacd6befd2790171",
   "outputs": [
    {
     "name": "stdout",
     "output_type": "stream",
     "text": [
      "[KiteWrapper] initialized: symbol=RELIANCE on exch=NSE\n",
      "[history] start: days=180, interval=3minute, symbol=RELIANCE\n",
      "[history] range UTC-naive: 2025-01-09 05:53:22.446389 → 2025-07-08 05:53:22.446389\n",
      "[history] token=738561\n",
      "[history] got 8375 bars, cursor→2025-04-17 15:30:00\n",
      "[history] got 6875 bars, cursor→2025-07-07 15:30:00\n",
      "[history] empty data for 2025-07-07 15:30:00->2025-07-08 05:53:22.446389, breaking loop\n",
      "[history] complete 15250 bars 2025-01-09 09:15:00 → 2025-07-07 15:27:00\n",
      "🔧  Training started at 11:23:23\n",
      "✅  Training finished in 9.1s\n",
      "Validation accuracy: 0.484\n"
     ]
    },
    {
     "name": "stderr",
     "output_type": "stream",
     "text": [
      "/Users/sreejit/PycharmProjects/zerodha-bot/.venv/lib/python3.13/site-packages/sklearn/utils/validation.py:2749: UserWarning: X does not have valid feature names, but LGBMClassifier was fitted with feature names\n",
      "  warnings.warn(\n",
      "/Library/Frameworks/Python.framework/Versions/3.13/lib/python3.13/multiprocessing/queues.py:120: UserWarning: pkg_resources is deprecated as an API. See https://setuptools.pypa.io/en/latest/pkg_resources.html. The pkg_resources package is slated for removal as early as 2025-11-30. Refrain from using this package or pin to Setuptools<81.\n",
      "  return _ForkingPickler.loads(res)\n",
      "/Library/Frameworks/Python.framework/Versions/3.13/lib/python3.13/multiprocessing/queues.py:120: UserWarning: pkg_resources is deprecated as an API. See https://setuptools.pypa.io/en/latest/pkg_resources.html. The pkg_resources package is slated for removal as early as 2025-11-30. Refrain from using this package or pin to Setuptools<81.\n",
      "  return _ForkingPickler.loads(res)\n",
      "/Library/Frameworks/Python.framework/Versions/3.13/lib/python3.13/multiprocessing/queues.py:120: UserWarning: pkg_resources is deprecated as an API. See https://setuptools.pypa.io/en/latest/pkg_resources.html. The pkg_resources package is slated for removal as early as 2025-11-30. Refrain from using this package or pin to Setuptools<81.\n",
      "  return _ForkingPickler.loads(res)\n",
      "/Library/Frameworks/Python.framework/Versions/3.13/lib/python3.13/multiprocessing/queues.py:120: UserWarning: pkg_resources is deprecated as an API. See https://setuptools.pypa.io/en/latest/pkg_resources.html. The pkg_resources package is slated for removal as early as 2025-11-30. Refrain from using this package or pin to Setuptools<81.\n",
      "  return _ForkingPickler.loads(res)\n",
      "/Library/Frameworks/Python.framework/Versions/3.13/lib/python3.13/multiprocessing/queues.py:120: UserWarning: pkg_resources is deprecated as an API. See https://setuptools.pypa.io/en/latest/pkg_resources.html. The pkg_resources package is slated for removal as early as 2025-11-30. Refrain from using this package or pin to Setuptools<81.\n",
      "  return _ForkingPickler.loads(res)\n",
      "/Library/Frameworks/Python.framework/Versions/3.13/lib/python3.13/multiprocessing/queues.py:120: UserWarning: pkg_resources is deprecated as an API. See https://setuptools.pypa.io/en/latest/pkg_resources.html. The pkg_resources package is slated for removal as early as 2025-11-30. Refrain from using this package or pin to Setuptools<81.\n",
      "  return _ForkingPickler.loads(res)\n",
      "/Library/Frameworks/Python.framework/Versions/3.13/lib/python3.13/multiprocessing/queues.py:120: UserWarning: pkg_resources is deprecated as an API. See https://setuptools.pypa.io/en/latest/pkg_resources.html. The pkg_resources package is slated for removal as early as 2025-11-30. Refrain from using this package or pin to Setuptools<81.\n",
      "  return _ForkingPickler.loads(res)\n",
      "/Library/Frameworks/Python.framework/Versions/3.13/lib/python3.13/multiprocessing/queues.py:120: UserWarning: pkg_resources is deprecated as an API. See https://setuptools.pypa.io/en/latest/pkg_resources.html. The pkg_resources package is slated for removal as early as 2025-11-30. Refrain from using this package or pin to Setuptools<81.\n",
      "  return _ForkingPickler.loads(res)\n",
      "/Users/sreejit/PycharmProjects/zerodha-bot/.venv/lib/python3.13/site-packages/sklearn/utils/validation.py:2749: UserWarning: X does not have valid feature names, but LGBMClassifier was fitted with feature names\n",
      "  warnings.warn(\n",
      "/Users/sreejit/PycharmProjects/zerodha-bot/.venv/lib/python3.13/site-packages/sklearn/utils/validation.py:2749: UserWarning: X does not have valid feature names, but LGBMClassifier was fitted with feature names\n",
      "  warnings.warn(\n",
      "/Users/sreejit/PycharmProjects/zerodha-bot/.venv/lib/python3.13/site-packages/sklearn/utils/validation.py:2749: UserWarning: X does not have valid feature names, but LGBMClassifier was fitted with feature names\n",
      "  warnings.warn(\n",
      "/Users/sreejit/PycharmProjects/zerodha-bot/.venv/lib/python3.13/site-packages/sklearn/utils/validation.py:2749: UserWarning: X does not have valid feature names, but LGBMClassifier was fitted with feature names\n",
      "  warnings.warn(\n",
      "/Users/sreejit/PycharmProjects/zerodha-bot/.venv/lib/python3.13/site-packages/sklearn/utils/validation.py:2749: UserWarning: X does not have valid feature names, but LGBMClassifier was fitted with feature names\n",
      "  warnings.warn(\n",
      "/Users/sreejit/PycharmProjects/zerodha-bot/.venv/lib/python3.13/site-packages/sklearn/utils/validation.py:2749: UserWarning: X does not have valid feature names, but LGBMClassifier was fitted with feature names\n",
      "  warnings.warn(\n",
      "/Users/sreejit/PycharmProjects/zerodha-bot/.venv/lib/python3.13/site-packages/sklearn/utils/validation.py:2749: UserWarning: X does not have valid feature names, but LGBMClassifier was fitted with feature names\n",
      "  warnings.warn(\n",
      "/Users/sreejit/PycharmProjects/zerodha-bot/.venv/lib/python3.13/site-packages/sklearn/utils/validation.py:2749: UserWarning: X does not have valid feature names, but LGBMClassifier was fitted with feature names\n",
      "  warnings.warn(\n"
     ]
    },
    {
     "name": "stdout",
     "output_type": "stream",
     "text": [
      "Fold AUCs : [0.499 0.573 0.557 0.522 0.492 0.542 0.531 0.5   0.523 0.543]\n",
      "Median AUC: 0.527\n"
     ]
    },
    {
     "name": "stderr",
     "output_type": "stream",
     "text": [
      "/Users/sreejit/PycharmProjects/zerodha-bot/.venv/lib/python3.13/site-packages/sklearn/utils/validation.py:2749: UserWarning: X does not have valid feature names, but LGBMClassifier was fitted with feature names\n",
      "  warnings.warn(\n",
      "/Users/sreejit/PycharmProjects/zerodha-bot/.venv/lib/python3.13/site-packages/sklearn/utils/validation.py:2749: UserWarning: X does not have valid feature names, but LGBMClassifier was fitted with feature names\n",
      "  warnings.warn(\n"
     ]
    }
   ],
   "execution_count": 7
  },
  {
   "metadata": {
    "ExecuteTime": {
     "end_time": "2025-07-08T05:40:47.195717Z",
     "start_time": "2025-07-08T05:40:47.125958Z"
    }
   },
   "cell_type": "code",
   "source": [
    "import pandas as pd\n",
    "\n",
    "# 1) load whatever’s in the CSV so far:\n",
    "df = pd.read_csv(\n",
    "    \"imb_tape_2025-07-08.csv\",\n",
    "    parse_dates=[\"ts_utc\"],\n",
    "    index_col=\"ts_utc\"\n",
    ")\n",
    "\n",
    "# 2) resample to 3-min and compute mean/std\n",
    "bars = df[\"imb\"].resample(\"3T\").agg([\"mean\",\"std\"])\n",
    "\n",
    "print(f\"Bars so far: {len(bars)} (out of 125 expected)\")\n",
    "print(bars.head(), \"\\n…\\n\", bars.tail())\n"
   ],
   "id": "f741b81a7ab23393",
   "outputs": [
    {
     "name": "stdout",
     "output_type": "stream",
     "text": [
      "Bars so far: 13 (out of 125 expected)\n",
      "                         mean       std\n",
      "ts_utc                                 \n",
      "2025-07-08 05:03:00 -0.002628  0.652623\n",
      "2025-07-08 05:06:00 -0.103327  0.621978\n",
      "2025-07-08 05:09:00 -0.162325  0.629816\n",
      "2025-07-08 05:12:00 -0.245400  0.535625\n",
      "2025-07-08 05:15:00  0.039151  0.583979 \n",
      "…\n",
      "                          mean       std\n",
      "ts_utc                                 \n",
      "2025-07-08 05:27:00 -0.313418  0.561300\n",
      "2025-07-08 05:30:00 -0.416137  0.487249\n",
      "2025-07-08 05:33:00 -0.185370  0.631623\n",
      "2025-07-08 05:36:00 -0.367081  0.584939\n",
      "2025-07-08 05:39:00 -0.422671  0.447051\n"
     ]
    },
    {
     "name": "stderr",
     "output_type": "stream",
     "text": [
      "/var/folders/_y/qb2g5b655jqfc5_hr5xjb1sr0000gn/T/ipykernel_3792/683748000.py:11: FutureWarning: 'T' is deprecated and will be removed in a future version, please use 'min' instead.\n",
      "  bars = df[\"imb\"].resample(\"3T\").agg([\"mean\",\"std\"])\n"
     ]
    }
   ],
   "execution_count": 6
  },
  {
   "metadata": {},
   "cell_type": "code",
   "outputs": [],
   "execution_count": null,
   "source": "",
   "id": "3a070e6e74816d94"
  }
 ],
 "metadata": {
  "kernelspec": {
   "display_name": "Python 3",
   "language": "python",
   "name": "python3"
  },
  "language_info": {
   "codemirror_mode": {
    "name": "ipython",
    "version": 2
   },
   "file_extension": ".py",
   "mimetype": "text/x-python",
   "name": "python",
   "nbconvert_exporter": "python",
   "pygments_lexer": "ipython2",
   "version": "2.7.6"
  }
 },
 "nbformat": 4,
 "nbformat_minor": 5
}
