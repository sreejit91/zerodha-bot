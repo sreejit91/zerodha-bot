{
 "cells": [
  {
   "cell_type": "code",
   "id": "3e290cfa-7d24-4909-817e-7a0a85ea1ea7",
   "metadata": {
    "ExecuteTime": {
     "end_time": "2025-06-26T07:03:43.293879Z",
     "start_time": "2025-06-26T07:03:41.699146Z"
    }
   },
   "source": [
    "from algo.broker     import KiteWrapper\n",
    "from algo.config     import load_config\n",
    "from algo.features   import add_indicators\n",
    "from algo.model      import load_or_train\n",
    "from algo.backtester import backtest\n",
    "\n",
    "cfg   = load_config()\n",
    "wrap  = KiteWrapper(cfg)\n",
    "hist  = wrap.history(days=20, interval=\"3minute\")   # test slice\n",
    "\n",
    "model = load_or_train(add_indicators(hist), retrain=False)\n",
    "\n",
    "bt_df, metrics = backtest(hist, model=model)\n",
    "print(metrics)"
   ],
   "outputs": [
    {
     "name": "stderr",
     "output_type": "stream",
     "text": [
      "C:\\Users\\sreej\\projects\\zerodha-bot\\.venv\\Lib\\site-packages\\pandas_ta\\__init__.py:7: UserWarning: pkg_resources is deprecated as an API. See https://setuptools.pypa.io/en/latest/pkg_resources.html. The pkg_resources package is slated for removal as early as 2025-11-30. Refrain from using this package or pin to Setuptools<81.\n",
      "  from pkg_resources import get_distribution, DistributionNotFound\n"
     ]
    },
    {
     "ename": "ModuleNotFoundError",
     "evalue": "No module named 'joblib'",
     "output_type": "error",
     "traceback": [
      "\u001B[31m---------------------------------------------------------------------------\u001B[39m",
      "\u001B[31mModuleNotFoundError\u001B[39m                       Traceback (most recent call last)",
      "\u001B[36mCell\u001B[39m\u001B[36m \u001B[39m\u001B[32mIn[1]\u001B[39m\u001B[32m, line 1\u001B[39m\n\u001B[32m----> \u001B[39m\u001B[32m1\u001B[39m \u001B[38;5;28;01mfrom\u001B[39;00m\u001B[38;5;250m \u001B[39m\u001B[34;01malgo\u001B[39;00m\u001B[34;01m.\u001B[39;00m\u001B[34;01mbroker\u001B[39;00m\u001B[38;5;250m     \u001B[39m\u001B[38;5;28;01mimport\u001B[39;00m KiteWrapper\n\u001B[32m      2\u001B[39m \u001B[38;5;28;01mfrom\u001B[39;00m\u001B[38;5;250m \u001B[39m\u001B[34;01malgo\u001B[39;00m\u001B[34;01m.\u001B[39;00m\u001B[34;01mconfig\u001B[39;00m\u001B[38;5;250m     \u001B[39m\u001B[38;5;28;01mimport\u001B[39;00m load_config\n\u001B[32m      3\u001B[39m \u001B[38;5;28;01mfrom\u001B[39;00m\u001B[38;5;250m \u001B[39m\u001B[34;01malgo\u001B[39;00m\u001B[34;01m.\u001B[39;00m\u001B[34;01mfeatures\u001B[39;00m\u001B[38;5;250m   \u001B[39m\u001B[38;5;28;01mimport\u001B[39;00m add_indicators\n",
      "\u001B[36mFile \u001B[39m\u001B[32m~\\projects\\zerodha-bot\\algo\\__init__.py:11\u001B[39m\n\u001B[32m      9\u001B[39m \u001B[38;5;28;01mfrom\u001B[39;00m\u001B[38;5;250m \u001B[39m\u001B[34;01m.\u001B[39;00m\u001B[34;01mbroker\u001B[39;00m\u001B[38;5;250m  \u001B[39m\u001B[38;5;28;01mimport\u001B[39;00m KiteWrapper                         \u001B[38;5;66;03m# noqa: F401\u001B[39;00m\n\u001B[32m     10\u001B[39m \u001B[38;5;28;01mfrom\u001B[39;00m\u001B[38;5;250m \u001B[39m\u001B[34;01m.\u001B[39;00m\u001B[34;01mfeatures\u001B[39;00m\u001B[38;5;250m \u001B[39m\u001B[38;5;28;01mimport\u001B[39;00m add_indicators                     \u001B[38;5;66;03m# noqa: F401\u001B[39;00m\n\u001B[32m---> \u001B[39m\u001B[32m11\u001B[39m \u001B[38;5;28;01mfrom\u001B[39;00m\u001B[38;5;250m \u001B[39m\u001B[34;01m.\u001B[39;00m\u001B[34;01mmodel\u001B[39;00m\u001B[38;5;250m    \u001B[39m\u001B[38;5;28;01mimport\u001B[39;00m load_or_train                      \u001B[38;5;66;03m# noqa: F401\u001B[39;00m\n\u001B[32m     12\u001B[39m \u001B[38;5;28;01mfrom\u001B[39;00m\u001B[38;5;250m \u001B[39m\u001B[34;01m.\u001B[39;00m\u001B[34;01msignals\u001B[39;00m\u001B[38;5;250m  \u001B[39m\u001B[38;5;28;01mimport\u001B[39;00m generate_signal                    \u001B[38;5;66;03m# noqa: F401\u001B[39;00m\n\u001B[32m     13\u001B[39m \u001B[38;5;28;01mfrom\u001B[39;00m\u001B[38;5;250m \u001B[39m\u001B[34;01m.\u001B[39;00m\u001B[34;01mlogger\u001B[39;00m\u001B[38;5;250m   \u001B[39m\u001B[38;5;28;01mimport\u001B[39;00m Order, TradeLogger                 \u001B[38;5;66;03m# noqa: F401\u001B[39;00m\n",
      "\u001B[36mFile \u001B[39m\u001B[32m~\\projects\\zerodha-bot\\algo\\model.py:12\u001B[39m\n\u001B[32m     10\u001B[39m \u001B[38;5;28;01mfrom\u001B[39;00m\u001B[38;5;250m \u001B[39m\u001B[34;01m__future__\u001B[39;00m\u001B[38;5;250m \u001B[39m\u001B[38;5;28;01mimport\u001B[39;00m annotations\n\u001B[32m     11\u001B[39m \u001B[38;5;28;01mimport\u001B[39;00m\u001B[38;5;250m \u001B[39m\u001B[34;01mpathlib\u001B[39;00m,\u001B[38;5;250m \u001B[39m\u001B[34;01mtime\u001B[39;00m\n\u001B[32m---> \u001B[39m\u001B[32m12\u001B[39m \u001B[38;5;28;01mimport\u001B[39;00m\u001B[38;5;250m \u001B[39m\u001B[34;01mjoblib\u001B[39;00m\n\u001B[32m     13\u001B[39m \u001B[38;5;28;01mimport\u001B[39;00m\u001B[38;5;250m \u001B[39m\u001B[34;01mnumpy\u001B[39;00m\u001B[38;5;250m \u001B[39m\u001B[38;5;28;01mas\u001B[39;00m\u001B[38;5;250m \u001B[39m\u001B[34;01mnp\u001B[39;00m\n\u001B[32m     14\u001B[39m \u001B[38;5;28;01mimport\u001B[39;00m\u001B[38;5;250m \u001B[39m\u001B[34;01mpandas\u001B[39;00m\u001B[38;5;250m \u001B[39m\u001B[38;5;28;01mas\u001B[39;00m\u001B[38;5;250m \u001B[39m\u001B[34;01mpd\u001B[39;00m\n",
      "\u001B[31mModuleNotFoundError\u001B[39m: No module named 'joblib'"
     ]
    }
   ],
   "execution_count": 1
  },
  {
   "metadata": {},
   "cell_type": "code",
   "outputs": [],
   "execution_count": null,
   "source": "",
   "id": "d7af8012976cb80a"
  }
 ],
 "metadata": {
  "kernelspec": {
   "display_name": "Python [conda env:kitebot]",
   "language": "python",
   "name": "conda-env-kitebot-py"
  },
  "language_info": {
   "codemirror_mode": {
    "name": "ipython",
    "version": 3
   },
   "file_extension": ".py",
   "mimetype": "text/x-python",
   "name": "python",
   "nbconvert_exporter": "python",
   "pygments_lexer": "ipython3",
   "version": "3.11.13"
  }
 },
 "nbformat": 4,
 "nbformat_minor": 5
}
